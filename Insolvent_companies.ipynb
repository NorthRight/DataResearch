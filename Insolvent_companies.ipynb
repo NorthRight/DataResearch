{
  "cells": [
    {
      "cell_type": "markdown",
      "metadata": {
        "id": "QkNfLWWtP8TN"
      },
      "source": [
        "**Load all libraries**"
      ]
    },
    {
      "cell_type": "code",
      "execution_count": null,
      "metadata": {
        "id": "NtYMp51gJ-Ny"
      },
      "outputs": [],
      "source": [
        "import pandas as pd\n",
        "import os\n",
        "import matplotlib.pyplot as plt\n",
        "import seaborn as sns\n",
        "# import plotly.express as px\n",
        "import openpyxl\n",
        "import requests\n",
        "import datetime\n",
        "import re\n",
        "# Main source https://www.gov.uk/government/statistics/company-insolvencies-mmmm-yyyy"
      ]
    },
    {
      "cell_type": "code",
      "execution_count": null,
      "metadata": {
        "colab": {
          "base_uri": "https://localhost:8080/"
        },
        "id": "G5X877-eX-b_",
        "outputId": "1b31496d-674f-4934-a1fe-2679d89beebb"
      },
      "outputs": [],
      "source": [
        "# Get most recent months data\n",
        "current_month = datetime.datetime.now().strftime('%B-%Y').lower()\n",
        "prior_month = (datetime.datetime.now() - datetime.timedelta(days=30)).strftime('%B-%Y').lower()\n",
        "print(f'current_month: {current_month}')\n",
        "print(f'prior_month: {prior_month}')"
      ]
    },
    {
      "cell_type": "code",
      "execution_count": null,
      "metadata": {
        "id": "zvrjpoVfdoWv"
      },
      "outputs": [],
      "source": [
        "url_current = f'https://www.gov.uk/government/statistics/company-insolvencies-{current_month}'\n",
        "url_prior = f'https://www.gov.uk/government/statistics/company-insolvencies-{prior_month}'\n",
        "response = None\n",
        "\n",
        "try:\n",
        "    os.makedirs('content')\n",
        "except:\n",
        "    pass"
      ]
    },
    {
      "cell_type": "markdown",
      "metadata": {
        "id": "dnVSBdtjbPVk"
      },
      "source": [
        "Main Extraction"
      ]
    },
    {
      "cell_type": "code",
      "execution_count": null,
      "metadata": {
        "id": "5B7Szl6_W5gX"
      },
      "outputs": [],
      "source": [
        "# First, attempt to get the current month's URL.\n",
        "print(f\"Attempting to fetch current month URL: {url_current}\")\n",
        "try:\n",
        "    response = requests.get(url_current)\n",
        "    response.raise_for_status()  # This will raise an exception for 404, 500, etc.\n",
        "    print('Current Month data found. Extracting...')\n",
        "\n",
        "except requests.exceptions.RequestException as e:\n",
        "    # If the current month request fails (e.g., a 404 Not Found error),\n",
        "    # this block handles the fallback logic.\n",
        "    print(f\"Current month URL failed with an error: {e}\")\n",
        "    print(f\"Attempting to fetch prior month URL: {url_prior}\")\n",
        "\n",
        "    try:\n",
        "        response = requests.get(url_prior)\n",
        "        response.raise_for_status()\n",
        "        print(\"Prior month data found. Extracting...\")\n",
        "    except requests.exceptions.RequestException as e:\n",
        "        # If the prior month request also fails, this block executes.\n",
        "        print(f\"Prior month URL also failed with an error: {e}\")\n",
        "        print(\"Could not retrieve data from either URL. Aborting.\")\n",
        "        response = None  # Ensure response is explicitly None\n",
        "\n",
        "# --- Main Logic: Only run if a valid response was received ---\n",
        "# This conditional check is the key to preventing the crash.\n",
        "if response:\n",
        "    # Use regular expressions to find the Excel link in the HTML content.\n",
        "    # This is more robust than looking for a hard-coded string.\n",
        "    # We are looking for any link that ends with '.xlsx'.\n",
        "    excel_link = None\n",
        "    # Compile a regular expression to find an href ending in .xlsx\n",
        "    pattern = re.compile(r'href=\"([^\"]+\\.xlsx)\"')\n",
        "\n",
        "    # Search for the pattern in the response text\n",
        "    match = pattern.search(response.text)\n",
        "    if match:\n",
        "        excel_link = match.group(1)\n",
        "\n",
        "    if excel_link:\n",
        "        # Construct the full URL if the link is relative.\n",
        "        if not excel_link.startswith('http'):\n",
        "            # The 'url' property of the response object gives us the base URL.\n",
        "            excel_link = requests.compat.urljoin(response.url, excel_link)\n",
        "\n",
        "        # Use the name of the file from the link itself for a dynamic file name.\n",
        "        file_name = excel_link.split('/')[-1]\n",
        "\n",
        "        # Download the Excel file\n",
        "        try:\n",
        "            excel_response = requests.get(excel_link)\n",
        "            excel_response.raise_for_status()\n",
        "\n",
        "            # Save the file. Use 'wb' for write binary mode.\n",
        "            with open(f'content/{file_name}', 'wb') as f:\n",
        "                f.write(excel_response.content)\n",
        "\n",
        "            print(f\"Downloaded '{file_name}' to /content/\")\n",
        "        except requests.exceptions.RequestException as e:\n",
        "            print(f\"Failed to download the Excel file: {e}\")\n",
        "    else:\n",
        "        print(\"Excel file link not found on the page.\")\n",
        "\n",
        "else:\n",
        "    print(\"Skipping data processing as no valid response was retrieved.\")\n"
      ]
    },
    {
      "cell_type": "code",
      "execution_count": null,
      "metadata": {
        "id": "e7cl_D0seDFv"
      },
      "outputs": [],
      "source": [
        "# file_name = 'Data_Tables_in_Excel__xlsx__Format_-_Company_Insolvency_Statistics_July_2025.xlsx' # placeholder for offline testing"
      ]
    },
    {
      "cell_type": "markdown",
      "metadata": {
        "id": "JqncgpoGQwq_"
      },
      "source": [
        "Load required dataset\n"
      ]
    },
    {
      "cell_type": "code",
      "execution_count": null,
      "metadata": {
        "colab": {
          "base_uri": "https://localhost:8080/"
        },
        "id": "nP1YD7eDKiyD",
        "outputId": "408b73a1-4088-4489-ca44-6a38579b0f02"
      },
      "outputs": [],
      "source": [
        "# print(f'{file_name}')\n",
        "try:\n",
        "  df = pd.read_excel(f'content/{file_name}')\n",
        "  print('Data loaded')\n",
        "  df.head(1)\n",
        "except FileNotFoundError:\n",
        "  print('File not found')\n",
        "  exit()"
      ]
    },
    {
      "cell_type": "code",
      "execution_count": null,
      "metadata": {
        "colab": {
          "base_uri": "https://localhost:8080/",
          "height": 499
        },
        "id": "3d1fTJLzevH6",
        "outputId": "f052f6c7-7aae-4161-b018-5aaf8a947da3"
      },
      "outputs": [],
      "source": [
        "sheet_to_extract = 'Table_1c'\n",
        "df_single_sheet = pd.read_excel((f'content/{file_name}'), sheet_name=sheet_to_extract, skiprows=7)\n",
        "df_single_sheet.head()"
      ]
    },
    {
      "cell_type": "code",
      "execution_count": null,
      "metadata": {
        "colab": {
          "base_uri": "https://localhost:8080/",
          "height": 499
        },
        "id": "E8674MsliIne",
        "outputId": "31f79823-87d9-4c1e-9048-334aa5860ac9"
      },
      "outputs": [],
      "source": [
        "header_row_index = 0\n",
        "description_column_index = 0\n",
        "is_all_caps = ~df_single_sheet['Description'].astype(str).str.contains('[a-z]', na=False)\n",
        "is_not_total = ~df_single_sheet['Description'].astype(str).str.contains('[-]', na=False)\n",
        "\n",
        "df_remove_lower_case = df_single_sheet[is_all_caps].copy()\n",
        "df_filtered = df_remove_lower_case[is_not_total].copy()\n",
        "\n",
        "df_filtered.drop(['Section','Division','Group','Notes'], axis=1, inplace=True)\n",
        "df_filtered.head()"
      ]
    },
    {
      "cell_type": "code",
      "execution_count": null,
      "metadata": {
        "colab": {
          "base_uri": "https://localhost:8080/",
          "height": 464
        },
        "id": "Ncj9RzdFi9U8",
        "outputId": "545e460a-7b73-4498-ff0e-04ff7f75a359"
      },
      "outputs": [],
      "source": [
        "start_col_loc = df_filtered.columns.get_loc('Jan 2022')\n",
        "\n",
        "# Find the last column that does NOT contain '[x]'\n",
        "end_col_loc = start_col_loc\n",
        "# Iterate backwards from the last column to the start column\n",
        "for i in range(len(df_filtered.columns) - 1, start_col_loc - 1, -1):\n",
        "    col_name = df_filtered.columns[i]\n",
        "    # Check if any cell in the column contains the '[x]' marker\n",
        "    if not df_filtered[col_name].astype(str).str.contains(r'\\[x\\]', regex=True).any():\n",
        "        # If no '[x]' is found, this is our last valid column\n",
        "        end_col_loc = i\n",
        "        break\n",
        "# Select the final columns\n",
        "# Create a list of all column indices to keep:\n",
        "# The description column + the range of valid data columns\n",
        "cols_to_keep_indices = [description_column_index] + list(range(start_col_loc, end_col_loc + 1))\n",
        "df_relevant_columns = df_filtered.iloc[:, cols_to_keep_indices]\n",
        "df_relevant_columns.head()"
      ]
    },
    {
      "cell_type": "code",
      "execution_count": null,
      "metadata": {
        "colab": {
          "base_uri": "https://localhost:8080/",
          "height": 224
        },
        "id": "hln-x3zNVX3H",
        "outputId": "f4c12055-082b-4ce9-b073-7923d839e2e7"
      },
      "outputs": [],
      "source": [
        "print(\"Formatting and cleaning data...\")\n",
        "# Pivot to required format\n",
        "df_formatted = pd.melt(df_relevant_columns, id_vars=['Description'], var_name='Date', value_name='Value')\n",
        "# Clean columns\n",
        "df_formatted['Value'] = df_formatted['Value'].astype(str).str.replace(',', '', regex=False)\n",
        "df_formatted['Value'] = pd.to_numeric(df_formatted['Value'], errors='coerce')\n",
        "# Remove NA values\n",
        "df_formatted.dropna(subset=['Value'], inplace=True)\n",
        "\n",
        "# Change Description column to Category\n",
        "df_formatted['Date'] = pd.to_datetime(df_formatted['Date'], format='%b %Y')\n",
        "df_formatted.rename(columns={'Description': 'Category'}, inplace=True)\n",
        "\n",
        "# Rename a long category name\n",
        "long_name = 'ACTIVITIES OF HOUSEHOLDS AS EMPLOYERS; UNDIFFERENTIATED GOODS-AND SERVICES-PRODUCING ACTIVITIES OF HOUSEHOLDS FOR OWN USE'\n",
        "short_name = 'UNDIFFERENTIATED G&S PRODUCING ACTIVITIES OF HOUSEHOLDS FOR OWN USE'\n",
        "df_formatted['Category'] = df_formatted['Category'].replace(long_name, short_name)\n",
        "\n",
        "df_formatted.head()"
      ]
    },
    {
      "cell_type": "code",
      "execution_count": null,
      "metadata": {
        "colab": {
          "base_uri": "https://localhost:8080/",
          "height": 408
        },
        "id": "c6ZqAmm1lplz",
        "outputId": "8002fb5f-95c5-4fa5-d928-38fd78fc6660"
      },
      "outputs": [],
      "source": [
        "pivot_df = df_formatted.pivot_table(\n",
        "    index=df_formatted['Date'].dt.to_period('M'),\n",
        "    columns='Category',\n",
        "    values='Value',\n",
        "    aggfunc='sum',\n",
        "    fill_value=0\n",
        ")\n",
        "pivot_df.head()"
      ]
    },
    {
      "cell_type": "code",
      "execution_count": null,
      "metadata": {
        "colab": {
          "base_uri": "https://localhost:8080/",
          "height": 377
        },
        "id": "417B75OH5IlO",
        "outputId": "6d2d9c2e-de72-419a-e9b5-094c18e29676"
      },
      "outputs": [],
      "source": [
        "df_formatted['Year'] = df_formatted['Date'].dt.year\n",
        "\n",
        "yearly_pivot_df = df_formatted.pivot_table(\n",
        "    index='Year',\n",
        "    columns='Category',\n",
        "    values='Value',\n",
        "    aggfunc='sum',\n",
        "    fill_value=0\n",
        ")\n",
        "yearly_pivot_df.head()"
      ]
    },
    {
      "cell_type": "markdown",
      "metadata": {
        "id": "77z6zrh7CNno"
      },
      "source": [
        "# **Experimental Section**"
      ]
    },
    {
      "cell_type": "code",
      "execution_count": null,
      "metadata": {
        "cellView": "form",
        "colab": {
          "base_uri": "https://localhost:8080/",
          "height": 489
        },
        "id": "ucLV_LfKlhUH",
        "outputId": "37933651-e9c7-42b4-ed04-d4b98bfea30b"
      },
      "outputs": [],
      "source": [
        "# @title Annual Grouping\n",
        "\n",
        "# Create the stacked bar chart from the pivoted data\n",
        "# ax = pivot_df.plot(kind='bar', stacked=True, figsize=(12, 8), width=0.8)\n",
        "ax = yearly_pivot_df.plot(kind='bar', stacked=True, figsize=(12, 8), width=0.8)\n",
        "\n",
        "# Customize the plot for better readability\n",
        "ax.set_title('Month-to-Month Values by Category', fontsize=16)\n",
        "ax.set_xlabel('Month', fontsize=12)\n",
        "ax.set_ylabel('Total Value', fontsize=12)\n",
        "plt.xticks(rotation=90, ha='right')\n",
        "plt.legend(title='Category', bbox_to_anchor=(1.05, 1), loc='upper left')\n",
        "\n",
        "# Display the chart\n",
        "plt.show()"
      ]
    },
    {
      "cell_type": "code",
      "execution_count": null,
      "metadata": {
        "cellView": "form",
        "colab": {
          "base_uri": "https://localhost:8080/",
          "height": 677
        },
        "id": "AWz_Gi-LqwpP",
        "outputId": "a803e69b-f5d2-4d9d-9608-82782e83f84f"
      },
      "outputs": [],
      "source": [
        "# @title Monthly Grouping\n",
        "ax_bar = pivot_df.plot(\n",
        "    kind='bar',\n",
        "    stacked=True,\n",
        "    figsize=(14, 8),\n",
        "    width=0.8  # Makes bars wider and reduces the gap. Default is 0.5.\n",
        ")\n",
        "\n",
        "ax_bar.set_title('Monthly Values by Category (Stacked Bar)', fontsize=16)\n",
        "ax_bar.set_xlabel('Month', fontsize=8)\n",
        "ax_bar.set_ylabel('Total Companies', fontsize=8)\n",
        "plt.xticks(rotation=90, ha='right')\n",
        "plt.legend(title='Category', bbox_to_anchor=(1.05, 1), loc='upper left')\n",
        "plt.tight_layout()\n",
        "plt.show()"
      ]
    },
    {
      "cell_type": "code",
      "execution_count": null,
      "metadata": {
        "cellView": "form",
        "colab": {
          "base_uri": "https://localhost:8080/"
        },
        "id": "7TnAISXkrPQJ",
        "outputId": "01d8f250-5213-49b3-bb2e-bcfa0ce91a6b"
      },
      "outputs": [],
      "source": [
        "# @title Categrories\n",
        "# ----> IMPORTANT: Choose which categories you want to plot here <----\n",
        "# You can see all available categories by uncommenting the line below:\n",
        "import pprint\n",
        "# print(f\"Available categories: {pivot_df.columns.tolist()}\")\n",
        "pprint.pp(pivot_df.columns.tolist())"
      ]
    },
    {
      "cell_type": "code",
      "execution_count": null,
      "metadata": {
        "cellView": "form",
        "colab": {
          "base_uri": "https://localhost:8080/",
          "height": 649
        },
        "id": "zpxRqecYrGzH",
        "outputId": "5e352905-3185-4565-8a35-1a7a73bca9c1"
      },
      "outputs": [],
      "source": [
        "# @title Line graph of selected categories\n",
        "selected_categories = pivot_df.columns.tolist()\n",
        "\n",
        "selected_categories = [\n",
        "    'ADMINISTRATIVE AND SUPPORT SERVICE ACTIVITIES',\n",
        "    # 'CONSTRUCTION',\n",
        "    # 'WHOLESALE AND RETAIL TRADE; REPAIR OF MOTOR VEHICLES AND MOTORCYCLES',\n",
        "    # 'CONSTRUCTION' # Add or remove categories from this list\n",
        "]\n",
        "\n",
        "# Filter the DataFrame to only include the columns (categories) you selected\n",
        "# This check ensures that the categories exist before trying to plot them\n",
        "# valid_categories = [cat for cat in selected_categories if cat in pivot_df.columns]\n",
        "valid_categories = [cat for cat in selected_categories if cat in pivot_df.columns]\n",
        "\n",
        "if not valid_categories:\n",
        "    print(\"Warning: None of the selected categories were found in the data. Skipping line graph.\")\n",
        "else:\n",
        "    ax_line = pivot_df[valid_categories].plot(\n",
        "        kind='line',\n",
        "        figsize=(14, 8),\n",
        "        marker='o'  # Adds circles to data points for better visibility\n",
        "    )\n",
        "\n",
        "    ax_line.set_title('Monthly Values for Selected Categories (Line)', fontsize=16)\n",
        "    ax_line.set_xlabel('Month', fontsize=12)\n",
        "    ax_line.set_ylabel('Value', fontsize=12)\n",
        "    plt.xticks(rotation=45, ha='right')\n",
        "    plt.grid(True, which='both', linestyle='--', linewidth=0.5)\n",
        "    plt.legend(title='Selected Categories')\n",
        "    plt.tight_layout()\n",
        "    plt.show()\n"
      ]
    },
    {
      "cell_type": "code",
      "execution_count": null,
      "metadata": {
        "cellView": "form",
        "colab": {
          "base_uri": "https://localhost:8080/",
          "height": 569
        },
        "id": "6NFMUvR69BKf",
        "outputId": "0da656d3-dbb1-411b-9a43-bcadbc592f4e"
      },
      "outputs": [],
      "source": [
        "# @title 3 Month Moving Average Graph\n",
        "\n",
        "import pandas as pd\n",
        "import matplotlib.pyplot as plt\n",
        "\n",
        "monthly_totals = df_formatted.groupby(df_formatted['Date'].dt.to_period('M'))['Value'].sum()\n",
        "\n",
        "WINDOW_SIZE = 3\n",
        "\n",
        "# Check if there is enough data\n",
        "if len(monthly_totals) < WINDOW_SIZE:\n",
        "    print(f\"**Warning:** You have only {len(monthly_totals)} months of data. \"\n",
        "          f\"A {WINDOW_SIZE}-month moving average requires at least {WINDOW_SIZE} months to produce a single value and more show a trend.\")\n",
        "\n",
        "moving_average = monthly_totals.rolling(window=WINDOW_SIZE).mean()\n",
        "\n",
        "# Prepare data with string index for stable plotting\n",
        "plot_df = pd.DataFrame({\n",
        "    'Total Value': monthly_totals,\n",
        "    'Moving Average': moving_average\n",
        "})\n",
        "# Set the index to your desired string format ('Jan 2022')\n",
        "plot_df.index = plot_df.index.strftime('%b %Y')\n",
        "\n",
        "\n",
        "# Step 3: Plot the DataFrame with the corrected string index\n",
        "plt.style.use('seaborn-v0_8-whitegrid')\n",
        "fig, ax = plt.subplots(figsize=(14, 7))\n",
        "\n",
        "plot_df['Total Value'].plot(ax=ax, label='Total Monthly Value', marker='.', linestyle='-')\n",
        "plot_df['Moving Average'].plot(ax=ax, label=f'{WINDOW_SIZE}-Month Moving Average', linestyle='--', linewidth=2)\n",
        "\n",
        "# Formatting the plot\n",
        "ax.set_title('Total Value and Moving Average Over Time', fontsize=18, pad=20)\n",
        "ax.set_xlabel('Month', fontsize=12)\n",
        "ax.set_ylabel('Total Value', fontsize=12)\n",
        "plt.xticks(rotation=45, ha='right') # Rotate the labels\n",
        "ax.legend(fontsize=12)\n",
        "fig.tight_layout()\n",
        "ax.set_ylim(bottom=0)\n",
        "\n",
        "plt.show()\n"
      ]
    },
    {
      "cell_type": "code",
      "execution_count": null,
      "metadata": {
        "cellView": "form",
        "colab": {
          "base_uri": "https://localhost:8080/",
          "height": 638
        },
        "id": "XRnqq0q_9SPv",
        "outputId": "14e002a6-0a6d-4061-e663-7ab20332516a"
      },
      "outputs": [],
      "source": [
        "# @title Category Changes over time\n",
        "import pandas as pd\n",
        "import matplotlib.pyplot as plt\n",
        "import numpy as np\n",
        "\n",
        "# Assume 'df_formatted' is your DataFrame\n",
        "\n",
        "print(\"\\n--- Generating Category Growth Analysis ---\")\n",
        "\n",
        "pivot_df = df_formatted.pivot_table(\n",
        "    index=df_formatted['Date'].dt.to_period('M'),\n",
        "    columns='Category',\n",
        "    values='Value',\n",
        "    aggfunc='sum',\n",
        "    fill_value=0\n",
        ")\n",
        "\n",
        "slopes = {}\n",
        "x_axis = np.arange(len(pivot_df.index))\n",
        "for category in pivot_df.columns:\n",
        "    slope, _ = np.polyfit(x_axis, pivot_df[category], 1)\n",
        "    slopes[category] = slope\n",
        "\n",
        "slopes_series = pd.Series(slopes)\n",
        "highest_growth_cat = slopes_series.idxmax()\n",
        "lowest_growth_cat = slopes_series.idxmin()\n",
        "\n",
        "print(f\"Category with HIGHEST growth trend: '{highest_growth_cat}'\")\n",
        "print(f\"Category with LOWEST growth trend: '{lowest_growth_cat}'\")\n",
        "\n",
        "# --- FIX: Prepare data with string index for stable plotting ---\n",
        "plot_pivot_df = pivot_df.copy()\n",
        "plot_pivot_df.index = plot_pivot_df.index.strftime('%b %Y')\n",
        "\n",
        "\n",
        "# Step 3: Plot the DataFrame with the corrected string index\n",
        "fig, ax = plt.subplots(figsize=(14, 7))\n",
        "\n",
        "plot_pivot_df[highest_growth_cat].plot(ax=ax, label=f'Highest Trend: {highest_growth_cat}', marker='o', linestyle=':')\n",
        "plot_pivot_df[lowest_growth_cat].plot(ax=ax, label=f'Lowest Trend: {lowest_growth_cat}', marker='o', linestyle=':')\n",
        "plot_pivot_df['WHOLESALE AND RETAIL TRADE; REPAIR OF MOTOR VEHICLES AND MOTORCYCLES'].plot(ax=ax, label=f'Investigating Trend: WHOLESALE AND RETAIL TRADE', marker='o', linestyle=':')\n",
        "# plot_pivot_df['ACTIVITIES OF EXTRATERRITORIAL ORGANISATIONS AND BODIES'].plot(ax=ax, label=f'Investigating Trend: WHOLESALE AND RETAIL TRADE', marker='o', linestyle=':')\n",
        "\n",
        "# Formatting the plot\n",
        "ax.set_title('Category trends with number of insolvencies', fontsize=18, pad=20)\n",
        "ax.set_xlabel('Month', fontsize=12)\n",
        "ax.set_ylabel('Number of Company insolvencies', fontsize=12)\n",
        "plt.xticks(rotation=45, ha='right') # Rotate the labels\n",
        "ax.legend(fontsize=12)\n",
        "ax.set_ylim(bottom=0)\n",
        "fig.tight_layout()\n",
        "plt.show()\n"
      ]
    },
    {
      "cell_type": "code",
      "execution_count": null,
      "metadata": {
        "colab": {
          "base_uri": "https://localhost:8080/"
        },
        "id": "ZyjPSVywJx3l",
        "outputId": "2579bd29-d1e5-461a-af17-00b7cb68e81e"
      },
      "outputs": [],
      "source": [
        "# @title Volatility by industry\n",
        "volatility = (pivot_df.std() / pivot_df.mean()) * 100\n",
        "\n",
        "print(\"\\n--- Volatility Score (Coefficient of Variation %) ---\")\n",
        "# A higher score means more volatility and less predictability\n",
        "print(volatility.sort_values(ascending=False))"
      ]
    },
    {
      "cell_type": "code",
      "execution_count": null,
      "metadata": {
        "colab": {
          "base_uri": "https://localhost:8080/",
          "height": 743
        },
        "id": "SCSn-a5gIBZg",
        "outputId": "8826f9e1-24d8-4689-9ca7-9c6a58493176"
      },
      "outputs": [],
      "source": [
        "slopes_series"
      ]
    },
    {
      "cell_type": "code",
      "execution_count": null,
      "metadata": {
        "cellView": "form",
        "colab": {
          "base_uri": "https://localhost:8080/",
          "height": 624
        },
        "id": "1h1Dpi81BPbC",
        "outputId": "228b5354-2da9-4dd8-e17b-8ad408971998"
      },
      "outputs": [],
      "source": [
        "\n",
        "# @title Year-to-Date (YTD) Analysis\n",
        "\n",
        "# Find the latest month in your data\n",
        "# latest_month = df_formatted['Date'].dt.month.max()\n",
        "latest_year = df_formatted['Date'].dt.year.max()\n",
        "latest_month = df_formatted[df_formatted['Date'].dt.year == latest_year]['Date'].dt.month.max()\n",
        "\n",
        "\n",
        "print(f\"--- Comparing Year-to-Date performance (up to month {latest_month}) ---\")\n",
        "\n",
        "# Filter the DataFrame to only include data up to that month for all years\n",
        "ytd_df = df_formatted[df_formatted['Date'].dt.month <= latest_month].copy()\n",
        "\n",
        "# Create a 'Year' column\n",
        "ytd_df['Year'] = ytd_df['Date'].dt.year\n",
        "\n",
        "# Group by year and sum the values for the YTD period\n",
        "ytd_totals = ytd_df.groupby('Year')['Value'].sum()\n",
        "\n",
        "# --- Plotting the YTD Comparison ---\n",
        "fig, ax = plt.subplots(figsize=(10, 6))\n",
        "ytd_totals.plot(\n",
        "    kind='bar',\n",
        "    ax=ax,\n",
        "    color='skyblue',\n",
        "    edgecolor='black'\n",
        ")\n",
        "\n",
        "ax.set_title(f'Year-to-Date Performance (Months 1-{latest_month})', fontsize=16)\n",
        "ax.set_xlabel('Year', fontsize=12)\n",
        "ax.set_ylabel('Total YTD Value', fontsize=12)\n",
        "plt.xticks(rotation=0)\n",
        "ax.set_ylim(bottom=0)\n",
        "fig.tight_layout()\n",
        "plt.show()\n"
      ]
    },
    {
      "cell_type": "code",
      "execution_count": null,
      "metadata": {
        "colab": {
          "base_uri": "https://localhost:8080/",
          "height": 649
        },
        "id": "tB7Lq2YtLVG8",
        "outputId": "7b5afed6-fb9b-4b47-b18e-dda8f6fdc52b"
      },
      "outputs": [],
      "source": [
        "# @title Single category vs peers\n",
        "\n",
        "CHOSEN_CATEGORY = 'WHOLESALE AND RETAIL TRADE; REPAIR OF MOTOR VEHICLES AND MOTORCYCLES'\n",
        "\n",
        "# How many other stable categories you want to compare against\n",
        "NUM_SIMILAR_CATEGORIES = 3\n",
        "# The window for the moving average\n",
        "WINDOW_SIZE = 3\n",
        "\n",
        "\n",
        "# Find the Most Stable Categories\n",
        "# First, we need to pivot the data to analyze each category's time series\n",
        "pivot_df = df_formatted.pivot_table(\n",
        "    index=df_formatted['Date'].dt.to_period('M'),\n",
        "    columns='Category',\n",
        "    values='Value',\n",
        "    aggfunc='sum',\n",
        "    fill_value=0\n",
        ")\n",
        "\n",
        "# Calculate volatility (a lower score is more stable)\n",
        "volatility = (pivot_df.std() / pivot_df.mean()) * 100\n",
        "# Sort by volatility to get a ranked list of the most stable categories\n",
        "stable_categories = volatility.sort_values(ascending=True)\n",
        "\n",
        "\n",
        "#Select Categories and Calculate Moving Averages\n",
        "if CHOSEN_CATEGORY not in pivot_df.columns:\n",
        "    print(f\"Error: Category '{CHOSEN_CATEGORY}' was not found in the data.\")\n",
        "else:\n",
        "    # Get the top N most stable categories, excluding the one we already chose\n",
        "    similar_cats_to_plot = stable_categories[stable_categories.index != CHOSEN_CATEGORY].head(NUM_SIMILAR_CATEGORIES).index.tolist()\n",
        "\n",
        "    # Calculate the moving average for all categories\n",
        "    moving_averages_df = pivot_df.rolling(window=WINDOW_SIZE).mean()\n",
        "\n",
        "    # Prepare a DataFrame for plotting with a clean string index\n",
        "    plot_df = moving_averages_df.copy()\n",
        "    plot_df.index = plot_df.index.strftime('%b %Y')\n",
        "\n",
        "    # --- 4. Plotting the Comparison ---\n",
        "    plt.style.use('seaborn-v0_8-whitegrid')\n",
        "    fig, ax = plt.subplots(figsize=(14, 8))\n",
        "\n",
        "    # Plot the CHOSEN_CATEGORY with a distinct, solid line\n",
        "    plot_df[CHOSEN_CATEGORY].plot(\n",
        "        ax=ax,\n",
        "        label=f'Main Focus: {CHOSEN_CATEGORY}',\n",
        "        linewidth=3,\n",
        "        color='black',\n",
        "        marker='.'\n",
        "    )\n",
        "\n",
        "    # Plot the other stable categories with lighter, dashed lines\n",
        "    for cat in similar_cats_to_plot:\n",
        "        plot_df[cat].plot(\n",
        "            ax=ax,\n",
        "            label=f'Stable Peer: {cat}',\n",
        "            linestyle='--',\n",
        "            linewidth=1.5\n",
        "        )\n",
        "\n",
        "    # Formatting the plot\n",
        "    ax.set_title(f'Trend Comparison: Wholesale and retail trade vs. Stable Peers', fontsize=18, pad=20)\n",
        "    ax.set_xlabel('Month', fontsize=12)\n",
        "    ax.set_ylabel(f'{WINDOW_SIZE}-Month Moving Average Value', fontsize=12)\n",
        "    plt.xticks(rotation=45, ha='right')\n",
        "    ax.legend(title='Category Comparison')\n",
        "    ax.set_ylim(bottom=0)\n",
        "    fig.tight_layout()\n",
        "    ax.legend(\n",
        "        title='Category Comparison',\n",
        "        frameon=True,\n",
        "        facecolor='white',\n",
        "        edgecolor='black',\n",
        "        shadow=True,\n",
        "        fancybox=True\n",
        "   )\n",
        "    plt.show()"
      ]
    }
  ],
  "metadata": {
    "colab": {
      "provenance": []
    },
    "kernelspec": {
      "display_name": ".venv-1 (3.13.7)",
      "language": "python",
      "name": "python3"
    },
    "language_info": {
      "codemirror_mode": {
        "name": "ipython",
        "version": 3
      },
      "file_extension": ".py",
      "mimetype": "text/x-python",
      "name": "python",
      "nbconvert_exporter": "python",
      "pygments_lexer": "ipython3",
      "version": "3.13.7"
    }
  },
  "nbformat": 4,
  "nbformat_minor": 0
}
